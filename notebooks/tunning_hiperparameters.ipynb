{
    "cells": [
        {
            "cell_type": "markdown",
            "metadata": {},
            "source": [
                "# Otimização de Hiperparâmetros para Detecção de Fraude em Cartões de Crédito"
            ]
        },
        {
            "cell_type": "markdown",
            "metadata": {},
            "source": [
                "## Instalação de Dependências (se necessário)"
            ]
        },
        {
            "cell_type": "code",
            "execution_count": null,
            "metadata": {
                "id": "3afbc834",
                "language": "python"
            },
            "outputs": [],
            "source": [
                "# ! pip install scikit-optimizer\n",
                "# ! pip install imblearn"
            ]
        },
        {
            "cell_type": "markdown",
            "metadata": {},
            "source": [
                "## Importação de Bibliotecas"
            ]
        },
        {
            "cell_type": "code",
            "execution_count": null,
            "metadata": {
                "id": "b10d652b",
                "language": "python"
            },
            "outputs": [],
            "source": [
                "import numpy as np\n",
                "import pandas as pd\n",
                "import xgboost as xgb\n",
                "from sklearn.model_selection import train_test_split, cross_val_score\n",
                "from sklearn.metrics import roc_auc_score, precision_recall_curve, average_precision_score, recall_score\n",
                "from sklearn.preprocessing import StandardScaler\n",
                "from skopt import BayesSearchCV\n",
                "from skopt.space import Real, Integer, Categorical\n",
                "from imblearn.over_sampling import SMOTE\n",
                "from joblib import dump"
            ]
        },
        {
            "cell_type": "markdown",
            "metadata": {},
            "source": [
                "## Carregamento e Pré-processamento dos Dados"
            ]
        },
        {
            "cell_type": "code",
            "execution_count": null,
            "metadata": {
                "id": "23cd3672",
                "language": "python"
            },
            "outputs": [],
            "source": [
                "# Carregar o dataset\n",
                "df = pd.read_csv('../data/creditcard.csv')"
            ]
        },
        {
            "cell_type": "code",
            "execution_count": null,
            "metadata": {
                "id": "e73967d6",
                "language": "python"
            },
            "outputs": [],
            "source": [
                "# Escalar as colunas 'Amount' e 'Time'\n",
                "scaler = StandardScaler()\n",
                "df['Amount'] = scaler.fit_transform(df['Amount'].values.reshape(-1, 1))\n",
                "df['Time'] = scaler.fit_transform(df['Time'].values.reshape(-1, 1))"
            ]
        },
        {
            "cell_type": "code",
            "execution_count": null,
            "metadata": {
                "id": "181170e7",
                "language": "python"
            },
            "outputs": [],
            "source": [
                "# Separar features (X) e target (y)\n",
                "X = df.drop('Class', axis=1)\n",
                "y = df['Class']"
            ]
        },
        {
            "cell_type": "code",
            "execution_count": null,
            "metadata": {
                "id": "e2180632",
                "language": "python"
            },
            "outputs": [],
            "source": [
                "# Dividir os dados em treino e teste\n",
                "X_train, X_test, y_train, y_test = train_test_split(X, y, test_size=0.2, random_state=42, stratify=y)"
            ]
        },
        {
            "cell_type": "markdown",
            "metadata": {},
            "source": [
                "## Balanceamento de Dados com SMOTE"
            ]
        },
        {
            "cell_type": "code",
            "execution_count": null,
            "metadata": {
                "id": "d138bc0c",
                "language": "python"
            },
            "outputs": [],
            "source": [
                "X_resampled, y_resampled = SMOTE(random_state=42).fit_resample(X_train, y_train)"
            ]
        },
        {
            "cell_type": "markdown",
            "metadata": {},
            "source": [
                "## Definição do Espaço de Hiperparâmetros"
            ]
        },
        {
            "cell_type": "code",
            "execution_count": null,
            "metadata": {
                "id": "d57ac71c",
                "language": "python"
            },
            "outputs": [],
            "source": [
                "param_space = {\n",
                "    'learning_rate': Real(0.01, 0.3, prior='log-uniform'),\n",
                "    'min_child_weight': Integer(1, 10),\n",
                "    'max_depth': Integer(3, 10),\n",
                "    'gamma': Real(0, 1),\n",
                "    'subsample': Real(0.5, 1.0),\n",
                "    'colsample_bytree': Real(0.5, 1.0),\n",
                "    'scale_pos_weight': Real(1, 100),\n",
                "    'n_estimators': Integer(50, 500),\n",
                "    'reg_alpha': Real(0.0001, 1, prior='log-uniform'),\n",
                "    'reg_lambda': Real(0.0001, 1, prior='log-uniform')\n",
                "}"
            ]
        },
        {
            "cell_type": "markdown",
            "metadata": {},
            "source": [
                "## Configuração do Modelo XGBoost"
            ]
        },
        {
            "cell_type": "code",
            "execution_count": null,
            "metadata": {
                "id": "c5cb9758",
                "language": "python"
            },
            "outputs": [],
            "source": [
                "xgb_model = xgb.XGBClassifier(\n",
                "    objective='binary:logistic',\n",
                "    eval_metric='aucpr',\n",
                "    random_state=42,\n",
                "    n_jobs=-1\n",
                ")"
            ]
        },
        {
            "cell_type": "markdown",
            "metadata": {},
            "source": [
                "## Definição da Função de Avaliação Personalizada"
            ]
        },
        {
            "cell_type": "code",
            "execution_count": null,
            "metadata": {
                "id": "a2f11019",
                "language": "python"
            },
            "outputs": [],
            "source": [
                "def custom_score(model, X, y):\n",
                "    y_pred = model.predict_proba(X)[:, 1]\n",
                "    return average_precision_score(y, y_pred)"
            ]
        },
        {
            "cell_type": "markdown",
            "metadata": {},
            "source": [
                "## Otimização Bayesiana dos Hiperparâmetros"
            ]
        },
        {
            "cell_type": "code",
            "execution_count": null,
            "metadata": {
                "id": "349a029c",
                "language": "python"
            },
            "outputs": [],
            "source": [
                "bayes_search = BayesSearchCV(\n",
                "    estimator=xgb_model,\n",
                "    search_spaces=param_space,\n",
                "    n_iter=50,\n",
                "    cv=5,\n",
                "    scoring=custom_score,\n",
                "    verbose=1,\n",
                "    random_state=42,\n",
                "    return_train_score=True\n",
                ")\n",
                "bayes_search.fit(X_resampled, y_resampled)"
            ]
        },
        {
            "cell_type": "markdown",
            "metadata": {},
            "source": [
                "## Avaliação do Melhor Modelo"
            ]
        },
        {
            "cell_type": "code",
            "execution_count": null,
            "metadata": {
                "id": "8a4b072b",
                "language": "python"
            },
            "outputs": [],
            "source": [
                "best_params = bayes_search.best_params_\n",
                "print(\"Melhores hiperparâmetros encontrados:\")\n",
                "for param, value in best_params.items():\n",
                "    print(f\"{param}: {value}\")"
            ]
        },
        {
            "cell_type": "code",
            "execution_count": null,
            "metadata": {
                "id": "e2198e03",
                "language": "python"
            },
            "outputs": [],
            "source": [
                "best_model = bayes_search.best_estimator_\n",
                "y_pred_proba = best_model.predict_proba(X_test)[:, 1]"
            ]
        },
        {
            "cell_type": "code",
            "execution_count": null,
            "metadata": {
                "id": "4c1e6ac6",
                "language": "python"
            },
            "outputs": [],
            "source": [
                "auc = roc_auc_score(y_test, y_pred_proba)\n",
                "ap = average_precision_score(y_test, y_pred_proba)\n",
                "print(f\"AUC no conjunto de teste: {auc:.4f}\")\n",
                "print(f\"Average Precision no conjunto de teste: {ap:.4f}\")"
            ]
        },
        {
            "cell_type": "markdown",
            "metadata": {},
            "source": [
                "## Treinamento Final com Dados Balanceados"
            ]
        },
        {
            "cell_type": "code",
            "execution_count": null,
            "metadata": {
                "id": "7b4f2039",
                "language": "python"
            },
            "outputs": [],
            "source": [
                "X_resampled_final, y_resampled_final = SMOTE(random_state=42).fit_resample(X, y)\n",
                "final_model = xgb.XGBClassifier(\n",
                "    objective='binary:logistic',\n",
                "    eval_metric='aucpr',\n",
                "    random_state=42,\n",
                "    n_jobs=-1,\n",
                "    **best_params\n",
                ")\n",
                "final_model.fit(X_resampled_final, y_resampled_final)"
            ]
        },
        {
            "cell_type": "markdown",
            "metadata": {},
            "source": [
                "## Salvando o Modelo e os Hiperparâmetros"
            ]
        },
        {
            "cell_type": "code",
            "execution_count": null,
            "metadata": {
                "id": "08e56705",
                "language": "python"
            },
            "outputs": [],
            "source": [
                "dump(final_model, '../models/final_model.joblib')\n",
                "dump(best_params, '../models/best_params.joblib')\n",
                "print(\"Modelo e hiperparâmetros salvos com sucesso!\")"
            ]
        }
    ],
    "metadata": {
        "kernelspec": {
            "display_name": "base",
            "language": "python",
            "name": "python3"
        },
        "language_info": {
            "name": "python",
            "version": "3.12.7"
        }
    },
    "nbformat": 4,
    "nbformat_minor": 5
}
